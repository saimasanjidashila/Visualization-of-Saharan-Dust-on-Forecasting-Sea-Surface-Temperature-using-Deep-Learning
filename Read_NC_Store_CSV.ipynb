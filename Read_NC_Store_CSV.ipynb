{
 "cells": [
  {
   "cell_type": "code",
   "execution_count": 1,
   "id": "f2190eb2-358b-4ebe-9c1f-faea6ab81092",
   "metadata": {},
   "outputs": [],
   "source": [
    "import netCDF4 as nc\n",
    "import pandas as pd\n",
    "import numpy as np\n",
    "import os\n"
   ]
  },
  {
   "cell_type": "code",
   "execution_count": 2,
   "id": "9eca6a8a-8828-47ab-8e84-de1ee68ba97d",
   "metadata": {},
   "outputs": [
    {
     "data": {
      "text/plain": [
       "'/Users/saima/Documents/6.Graduate Assistant/Dr.Paul,GA/Thesis_Work/oisst/scripts'"
      ]
     },
     "execution_count": 2,
     "metadata": {},
     "output_type": "execute_result"
    }
   ],
   "source": [
    "pwd"
   ]
  },
  {
   "cell_type": "code",
   "execution_count": 9,
   "id": "c4b60034-6a36-47f1-bd18-610ce46e7da8",
   "metadata": {},
   "outputs": [],
   "source": [
    "import netCDF4 as nc\n",
    "import pandas as pd\n",
    "import numpy as np\n",
    "import os\n",
    "\n",
    "# Define the latitude and longitude ranges in the original -180 to 180 system\n",
    "lat_range = (0.0, 35.0)  # Example range\n",
    "lon_range = (260.0, 360.0)  # Adjusted range for 0-360 system\n",
    "\n",
    "def process_netcdf_to_dataframe(netcdf_file):\n",
    "    # Open the NetCDF file\n",
    "    dataset = nc.Dataset(netcdf_file)\n",
    "\n",
    "    # Read variables\n",
    "    time = dataset.variables['time'][:]  # Time\n",
    "    lat = dataset.variables['lat'][:]    # Latitude\n",
    "    lon = dataset.variables['lon'][:]    # Longitude\n",
    "    sst = dataset.variables['sst'][:]    # Sea surface temperature (time, depth/level, lat, lon)\n",
    "\n",
    "    # Convert time units to human-readable format if needed\n",
    "    time_units = dataset.variables['time'].units\n",
    "    time = nc.num2date(time, units=time_units)\n",
    "\n",
    "    # Filter lat and lon within the specified range\n",
    "    lat_filter = (lat >= lat_range[0]) & (lat <= lat_range[1])\n",
    "    lon_filter = (lon >= lon_range[0]) & (lon <= lon_range[1])\n",
    "\n",
    "    # Check if filters have any data\n",
    "    if np.sum(lat_filter) == 0 or np.sum(lon_filter) == 0:\n",
    "        print(f\"No data found within the specified lat/lon ranges.\")\n",
    "        return pd.DataFrame()  # Return an empty DataFrame if no data found\n",
    "\n",
    "    # Apply lat and lon filter to SST\n",
    "    lat_indices = np.where(lat_filter)[0]\n",
    "    lon_indices = np.where(lon_filter)[0]\n",
    "\n",
    "    filtered_lat = lat[lat_filter]\n",
    "    filtered_lon = lon[lon_filter]\n",
    "    filtered_sst = sst[:, 0, lat_filter, :][:, :, lon_filter]  # Keep the first level (depth/level) for simplicity\n",
    "\n",
    "    # Flatten the SST, lat, lon, and time arrays for CSV\n",
    "    num_time_steps = len(time)\n",
    "    num_lat = len(filtered_lat)\n",
    "    num_lon = len(filtered_lon)\n",
    "\n",
    "    if filtered_sst.shape[1] != num_lat or filtered_sst.shape[2] != num_lon:\n",
    "        print(f\"Mismatch in filtered SST shape: {filtered_sst.shape}\")\n",
    "        return pd.DataFrame()  # Return an empty DataFrame if mismatch\n",
    "\n",
    "    filtered_sst = filtered_sst.reshape(num_time_steps * num_lat * num_lon)\n",
    "    filtered_lat = np.repeat(filtered_lat, num_lon * num_time_steps)\n",
    "    filtered_lon = np.tile(np.repeat(filtered_lon, num_time_steps), num_lat)\n",
    "    filtered_time = np.tile(time, num_lat * num_lon)\n",
    "\n",
    "    # Create a Pandas DataFrame\n",
    "    df = pd.DataFrame({\n",
    "        'time': filtered_time,\n",
    "        'lat': filtered_lat,\n",
    "        'lon': filtered_lon,\n",
    "        'sst': filtered_sst\n",
    "    })\n",
    "\n",
    "    # Remove missing values (if SST has missing values marked as -9999)\n",
    "    df = df[df['sst'] != -9999]\n",
    "\n",
    "    # Format lat and lon to have the required precision\n",
    "    df['lat'] = df['lat'].round(3)\n",
    "    df['lon'] = df['lon'].round(3)\n",
    "\n",
    "    return df\n",
    "\n",
    "# Folder containing NetCDF files\n",
    "netcdf_folder = './oisst_data'  # Replace with your folder path\n",
    "\n",
    "# Process each NetCDF file in the folder\n",
    "all_data = pd.DataFrame()\n",
    "for filename in os.listdir(netcdf_folder):\n",
    "    if filename.endswith('.nc'):\n",
    "        file_path = os.path.join(netcdf_folder, filename)\n",
    "        df = process_netcdf_to_dataframe(file_path)\n",
    "        if not df.empty:\n",
    "            all_data = pd.concat([all_data, df], ignore_index=True)\n",
    "\n",
    "# Save all data to a single CSV file\n",
    "all_data.to_csv('./dataset/TEST_combined_sst_data.csv', index=False)\n"
   ]
  },
  {
   "cell_type": "code",
   "execution_count": 13,
   "id": "8a594f33-b527-4dfa-b231-b750a7ed1944",
   "metadata": {},
   "outputs": [],
   "source": [
    "import pandas as pd\n",
    "\n",
    "# Load the dataset\n",
    "df = pd.read_csv('./dataset/TEST_combined_sst_data.csv')\n",
    "\n",
    "# Define a function to convert longitude from 0-360 to -180 to 180\n",
    "def convert_lon(lon):\n",
    "    return lon - 360 if lon > 180 else lon\n",
    "\n",
    "# Apply the conversion function to the 'lon' column\n",
    "df['lon_converted'] = df['lon'].apply(convert_lon)\n",
    "\n",
    "# Drop the original 'lon' column\n",
    "df = df.drop(columns=['lon'])\n",
    "\n",
    "# Rename 'lon_converted' to 'lon'\n",
    "df = df.rename(columns={'lon_converted': 'lon'})\n",
    "\n",
    "# Sort the DataFrame by 'time', 'lat', and 'lon'\n",
    "df = df.sort_values(by=['time', 'lat', 'lon'])\n",
    "\n",
    "# Save the updated DataFrame to a new CSV file\n",
    "df.to_csv('./dataset/FINAL_dataset.csv', index=False)\n"
   ]
  },
  {
   "cell_type": "code",
   "execution_count": null,
   "id": "4e2b4285-5211-4175-87cb-9a795972b465",
   "metadata": {},
   "outputs": [],
   "source": []
  }
 ],
 "metadata": {
  "kernelspec": {
   "display_name": "Python 3 (ipykernel)",
   "language": "python",
   "name": "python3"
  },
  "language_info": {
   "codemirror_mode": {
    "name": "ipython",
    "version": 3
   },
   "file_extension": ".py",
   "mimetype": "text/x-python",
   "name": "python",
   "nbconvert_exporter": "python",
   "pygments_lexer": "ipython3",
   "version": "3.11.9"
  }
 },
 "nbformat": 4,
 "nbformat_minor": 5
}
