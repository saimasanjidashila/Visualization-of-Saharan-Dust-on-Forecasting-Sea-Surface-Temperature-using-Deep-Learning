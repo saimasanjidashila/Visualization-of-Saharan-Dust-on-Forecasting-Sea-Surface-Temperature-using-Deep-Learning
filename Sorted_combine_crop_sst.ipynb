{
 "cells": [
  {
   "cell_type": "code",
   "execution_count": 12,
   "id": "21c39a71-b360-4641-b4ad-a811461c5586",
   "metadata": {},
   "outputs": [
    {
     "name": "stdout",
     "output_type": "stream",
     "text": [
      "<xarray.Dataset>\n",
      "Dimensions:  (time: 123, zlev: 1, lat: 140, lon: 400)\n",
      "Coordinates:\n",
      "  * time     (time) datetime64[ns] 2022-05-01T12:00:00 ... 2022-08-31T12:00:00\n",
      "  * zlev     (zlev) float32 0.0\n",
      "  * lat      (lat) float32 0.125 0.375 0.625 0.875 ... 34.12 34.38 34.62 34.88\n",
      "  * lon      (lon) float32 260.1 260.4 260.6 260.9 ... 359.1 359.4 359.6 359.9\n",
      "Data variables:\n",
      "    sst      (time, zlev, lat, lon) float32 ...\n",
      "    anom     (time, zlev, lat, lon) float32 ...\n",
      "    err      (time, zlev, lat, lon) float32 ...\n",
      "    ice      (time, zlev, lat, lon) float32 ...\n",
      "Attributes: (12/37)\n",
      "    Conventions:                CF-1.6, ACDD-1.3\n",
      "    title:                      NOAA/NCEI 1/4 Degree Daily Optimum Interpolat...\n",
      "    references:                 Reynolds, et al.(2007) Daily High-Resolution-...\n",
      "    source:                     ICOADS, NCEP_GTS, GSFC_ICE, NCEP_ICE, Pathfin...\n",
      "    id:                         oisst-avhrr-v02r01.20220519.nc\n",
      "    naming_authority:           gov.noaa.ncei\n",
      "    ...                         ...\n",
      "    time_coverage_start:        2022-05-19T00:00:00Z\n",
      "    time_coverage_end:          2022-05-19T23:59:59Z\n",
      "    metadata_link:              https://doi.org/10.25921/RE9P-PT57\n",
      "    ncei_template_version:      NCEI_NetCDF_Grid_Template_v2.0\n",
      "    comment:                    Data was converted from NetCDF-3 to NetCDF-4 ...\n",
      "    sensor:                     Thermometer, AVHRR\n",
      "Frozen({'time': 123, 'zlev': 1, 'lat': 140, 'lon': 400})\n",
      "(123, 1, 140, 400)\n",
      "float32\n"
     ]
    }
   ],
   "source": [
    "import netCDF4 as nc\n",
    "import numpy as np\n",
    "import xarray as xr\n",
    "\n",
    "# Step 1: Load the NetCDF file using xarray\n",
    "file_path = './combined_sst_sorted.nc'\n",
    "ds = xr.open_dataset(file_path)\n",
    "\n",
    "# Step 2: Specify the correct latitude and longitude ranges for subsetting\n",
    "lat_min = 0.0\n",
    "lat_max = 35.0\n",
    "\n",
    "# For lon: convert (-100.0, 0.0) to (260.0, 360.0) in 0-360 range\n",
    "lon_min = 260.0\n",
    "lon_max = 360.0\n",
    "\n",
    "# Step 3: Perform the subsetting\n",
    "sst_subset = ds.sel(lat=slice(lat_min, lat_max), lon=slice(lon_min, lon_max))\n",
    "\n",
    "# Step 4: Check the subsetted data and its dimensions\n",
    "print(sst_subset)\n",
    "\n",
    "# Optional: Save the subsetted data to a new NetCDF file\n",
    "output_path = './SST_Subset_sst.nc'\n",
    "\n",
    "# Check dimensions, shape, and data type\n",
    "print(sst_subset.dims)  # Check dimensions of the SST subset\n",
    "if 'sst' in sst_subset.data_vars:\n",
    "    print(sst_subset['sst'].shape)  # Check the shape of the SST data array\n",
    "    print(sst_subset['sst'].dtype)  # Check the data type of the SST subset\n",
    "\n",
    "# Replace missing values (-9999) with NaN\n",
    "sst_subset = sst_subset.where(sst_subset != -9999, np.nan)\n",
    "\n",
    "# Save the subsetted dataset to a new NetCDF file\n",
    "sst_subset.to_netcdf(output_path)\n",
    "\n",
    "# Step 5: Close the dataset\n",
    "ds.close()\n"
   ]
  },
  {
   "cell_type": "code",
   "execution_count": 17,
   "id": "cf6e23f0-64bf-42ef-b2aa-33881536b01e",
   "metadata": {},
   "outputs": [
    {
     "data": {
      "text/plain": [
       "'/Users/saima/Documents/6.Graduate Assistant/Dr.Paul,GA/Thesis_Work/oisst/scripts/Cropped_folder'"
      ]
     },
     "execution_count": 17,
     "metadata": {},
     "output_type": "execute_result"
    }
   ],
   "source": [
    "pwd"
   ]
  },
  {
   "cell_type": "code",
   "execution_count": 16,
   "id": "13e1cc31-f29d-45e6-a427-3afdf3ae02b1",
   "metadata": {},
   "outputs": [
    {
     "name": "stdout",
     "output_type": "stream",
     "text": [
      "SST_Subset_sst.nc     new_cropped_oisst.nc\n"
     ]
    }
   ],
   "source": [
    "ls"
   ]
  },
  {
   "cell_type": "code",
   "execution_count": 15,
   "id": "3ecec43a-dcda-415d-85a0-75307b2640d4",
   "metadata": {},
   "outputs": [
    {
     "name": "stdout",
     "output_type": "stream",
     "text": [
      "/Users/saima/Documents/6.Graduate Assistant/Dr.Paul,GA/Thesis_Work/oisst/scripts/Cropped_folder\n"
     ]
    },
    {
     "name": "stderr",
     "output_type": "stream",
     "text": [
      "/opt/anaconda3/envs/python3/lib/python3.11/site-packages/IPython/core/magics/osm.py:417: UserWarning: This is now an optional IPython functionality, setting dhist requires you to install the `pickleshare` library.\n",
      "  self.shell.db['dhist'] = compress_dhist(dhist)[-100:]\n"
     ]
    }
   ],
   "source": [
    "cd Cropped_folder/"
   ]
  },
  {
   "cell_type": "code",
   "execution_count": null,
   "id": "31125019-fa3b-4009-9539-3105d8bc37b1",
   "metadata": {},
   "outputs": [],
   "source": []
  }
 ],
 "metadata": {
  "kernelspec": {
   "display_name": "Python 3 (ipykernel)",
   "language": "python",
   "name": "python3"
  },
  "language_info": {
   "codemirror_mode": {
    "name": "ipython",
    "version": 3
   },
   "file_extension": ".py",
   "mimetype": "text/x-python",
   "name": "python",
   "nbconvert_exporter": "python",
   "pygments_lexer": "ipython3",
   "version": "3.11.5"
  }
 },
 "nbformat": 4,
 "nbformat_minor": 5
}
